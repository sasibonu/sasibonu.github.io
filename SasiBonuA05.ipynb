{
 "cells": [
  {
   "cell_type": "code",
   "execution_count": 1,
   "metadata": {},
   "outputs": [
    {
     "name": "stderr",
     "output_type": "stream",
     "text": [
      "/Library/Frameworks/Python.framework/Versions/3.11/lib/python3.11/site-packages/tqdm/auto.py:21: TqdmWarning: IProgress not found. Please update jupyter and ipywidgets. See https://ipywidgets.readthedocs.io/en/stable/user_install.html\n",
      "  from .autonotebook import tqdm as notebook_tqdm\n"
     ]
    }
   ],
   "source": [
    "import numpy as np\n",
    "import pandas as pd\n",
    "from datasets import load_dataset\n",
    "import matplotlib.pyplot as plt\n",
    "from sklearn.model_selection import train_test_split\n",
    "import seaborn as sns"
   ]
  },
  {
   "cell_type": "code",
   "execution_count": 2,
   "metadata": {},
   "outputs": [],
   "source": [
    "dataset_en_hi = load_dataset(\"open_subtitles\", \"en-hi\")\n",
    "dataset_da_ru = load_dataset(\"open_subtitles\", \"da-ru\")\n",
    "data_en_hi = dataset_en_hi[\"train\"]\n",
    "data_da_ru = dataset_da_ru[\"train\"]"
   ]
  },
  {
   "cell_type": "code",
   "execution_count": 3,
   "metadata": {},
   "outputs": [
    {
     "data": {
      "text/plain": [
       "{'id': ['0', '1'],\n",
       " 'meta': [{'year': 1948,\n",
       "   'imdbId': 40522,\n",
       "   'subtitleId': {'en': 4180294, 'hi': 4239106},\n",
       "   'sentenceIds': {'en': [1], 'hi': [1]}},\n",
       "  {'year': 1948,\n",
       "   'imdbId': 40522,\n",
       "   'subtitleId': {'en': 4180294, 'hi': 4239106},\n",
       "   'sentenceIds': {'en': [2], 'hi': [2]}}],\n",
       " 'translation': [{'en': 'THE BICYCLE THIEF', 'hi': 'साइकिल चोर'},\n",
       "  {'en': 'Ricci?', 'hi': 'रिच्ची?'}]}"
      ]
     },
     "execution_count": 3,
     "metadata": {},
     "output_type": "execute_result"
    }
   ],
   "source": [
    "data_en_hi[0:2]"
   ]
  },
  {
   "cell_type": "code",
   "execution_count": null,
   "metadata": {},
   "outputs": [],
   "source": []
  }
 ],
 "metadata": {
  "kernelspec": {
   "display_name": "Python 3",
   "language": "python",
   "name": "python3"
  },
  "language_info": {
   "codemirror_mode": {
    "name": "ipython",
    "version": 3
   },
   "file_extension": ".py",
   "mimetype": "text/x-python",
   "name": "python",
   "nbconvert_exporter": "python",
   "pygments_lexer": "ipython3",
   "version": "3.11.5"
  }
 },
 "nbformat": 4,
 "nbformat_minor": 2
}
